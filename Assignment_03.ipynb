{
 "cells": [
  {
   "cell_type": "markdown",
   "metadata": {},
   "source": [
    "# Introduction to Programming (Fall 2018)\n",
    "\n",
    "## Assignment 3 (Due date: 18 Nov 2018, by midnight)"
   ]
  },
  {
   "cell_type": "markdown",
   "metadata": {},
   "source": [
    "### Question 1\n",
    "\n",
    "#### String Handling\n",
    "#### 1.1) \n",
    "Complete the following function which checks whether a DNA sequence is valid. A valid DNA sequence will only contain **'A,a,C,c,G,g,T,t'** characters for this question. If the sequence is valid return **True**, otherwise return **False**.\n",
    "\n",
    "*When running the block, the assert statements will raise errors if your program does not return the correct response.*\n"
   ]
  },
  {
   "cell_type": "code",
   "execution_count": 1,
   "metadata": {},
   "outputs": [],
   "source": [
    "def validity_check(sequence):\n",
    "    sequence = sequence.upper()\n",
    "    for char in sequence:\n",
    "        if char not in \"ACTG\":\n",
    "            return False\n",
    "    return True\n",
    "\n",
    "assert validity_check('ACGT') == True, 'validity_check(\"ACGT\") returns False, should return True'\n",
    "assert validity_check('acgt') == True, 'validity_check(\"acgt\") returns False, should return True'\n",
    "assert validity_check('AGUC') == False, 'validity_check(\"AGUC\") returns True, should return False'\n",
    "assert validity_check('PPPP') == False, 'validity_check(\"PPPP\") returns True, should return False'"
   ]
  },
  {
   "cell_type": "markdown",
   "metadata": {},
   "source": [
    "#### 1.2)\n",
    "Complete the following function which will return the reverse complement of a DNA sequence.\n",
    "\n",
    "The reverse complement is calculated by reversing the sequence and substituting: \n",
    "+ 'A' with 'T'\n",
    "+ 'T' with 'A'\n",
    "+ 'G' with 'C'\n",
    "+ 'C' with 'G'\n",
    "\n",
    "EG:\n",
    "```\n",
    "reverse_complement('AATC')\n",
    "\n",
    "step 1 - reverse the sequence:\n",
    "    reverse = 'CTAA'\n",
    "    \n",
    "step 2 - replace the characters with their complement:\n",
    "    'C' -> 'G'\n",
    "    'T' -> 'A'\n",
    "    'A' -> 'T'\n",
    "    'A' -> 'T'\n",
    "    \n",
    "    complement = 'GATT' \n",
    "```\n",
    "\n",
    "*When running the block, the assert statements will raise errors if your program does not return the correct response.*"
   ]
  },
  {
   "cell_type": "code",
   "execution_count": 2,
   "metadata": {},
   "outputs": [],
   "source": [
    "def reverse_complement(sequence):\n",
    "    complement = {'A':'T', 'T':'A', 'C':'G', 'G':'C'}\n",
    "    sequence = sequence.upper()\n",
    "    return''.join([complement[base] for base in sequence [::-1]])\n",
    "    return sequence\n",
    "\n",
    "assert reverse_complement('AAGCT') == 'AGCTT', 'reverse_complement(\"AAGCT\") should return \"AGCTT\"'\n",
    "assert reverse_complement('tggca') in ['tgcca','TGCCA'], 'reverse_complement(\"tggca\") should return \"tgcca\"'"
   ]
  },
  {
   "cell_type": "markdown",
   "metadata": {},
   "source": [
    "#### 1.3)\n",
    "\n",
    "Write a script which will allow a user to input multiple DNA sequences one at a time. You do not know how many in advance and should take this into account. Your code will then check if the sequence is valid and return the reverse complement if it is. If the sequence is not valid, print an error message alerting the user to this.\n",
    "\n",
    "It would be a good idea to use the functions you created in 1.1 and 1.2\n",
    "\n",
    "```\n",
    "PSEUDOCODE:\n",
    "loop until '' is entered:\n",
    "    prompt user for a new seq\n",
    "    if seq is valid:\n",
    "        output reverse complement\n",
    "    else\n",
    "        output error message indicating that sequence was invalid\n",
    "```"
   ]
  },
  {
   "cell_type": "code",
   "execution_count": 3,
   "metadata": {},
   "outputs": [
    {
     "name": "stdout",
     "output_type": "stream",
     "text": [
      "Enter DNA sequences to be analyzed, separated by commas: ACGT, acgt, AGUC, PPPP, TATAG\n",
      "ACGT\n",
      "ACGT\n",
      "The sequence was invalid\n",
      "The sequence was invalid\n",
      "CTATA\n"
     ]
    }
   ],
   "source": [
    "sequence_input = input(\"Enter DNA sequences to be analyzed, separated by commas: \")\n",
    "sequence_list = [str(i) for i in sequence_input.split(', ')]\n",
    "\n",
    "for sequence in sequence_list:\n",
    "    if validity_check(sequence) is True: \n",
    "        print(reverse_complement(sequence))\n",
    "    else:\n",
    "        print('The sequence was invalid')\n"
   ]
  },
  {
   "cell_type": "code",
   "execution_count": 4,
   "metadata": {},
   "outputs": [
    {
     "ename": "NameError",
     "evalue": "name 'ACGT' is not defined",
     "output_type": "error",
     "traceback": [
      "\u001b[0;31m---------------------------------------------------------------------------\u001b[0m",
      "\u001b[0;31mNameError\u001b[0m                                 Traceback (most recent call last)",
      "\u001b[0;32m<ipython-input-4-3dc13a7f91f8>\u001b[0m in \u001b[0;36m<module>\u001b[0;34m\u001b[0m\n\u001b[1;32m      1\u001b[0m \u001b[0;31m#test sequence input:\u001b[0m\u001b[0;34m\u001b[0m\u001b[0;34m\u001b[0m\u001b[0;34m\u001b[0m\u001b[0m\n\u001b[0;32m----> 2\u001b[0;31m \u001b[0mACGT\u001b[0m\u001b[0;34m,\u001b[0m \u001b[0macgt\u001b[0m\u001b[0;34m,\u001b[0m \u001b[0mAGUC\u001b[0m\u001b[0;34m,\u001b[0m \u001b[0mPPPP\u001b[0m\u001b[0;34m,\u001b[0m \u001b[0mTATAG\u001b[0m\u001b[0;34m\u001b[0m\u001b[0;34m\u001b[0m\u001b[0m\n\u001b[0m",
      "\u001b[0;31mNameError\u001b[0m: name 'ACGT' is not defined"
     ]
    }
   ],
   "source": [
    "#test sequence input:\n",
    "ACGT, acgt, AGUC, PPPP, TATAG"
   ]
  },
  {
   "cell_type": "markdown",
   "metadata": {},
   "source": [
    "### Question 2\n",
    "\n",
    "In cryptography there are many ways to code messages. An easy method is to shift the alphabet by a given amount, this is known as a Caesar Cipher http://practicalcryptography.com/ciphers/caesar-cipher/.\n",
    "\n",
    "EG:\n",
    "\n",
    "Shift|A|B|C|D|E|F|G|H|I|J|K|L|M|N|O|P|Q|R|S|T|U|V|W|X|Y|Z|\n",
    "-|-|-|-|-|-|-|-|-|-|-|-|-|-|-|-|-|-|-|-|-|-|-|-|-|-|-|\n",
    "1|B|C|D|E|F|G|H|I|J|K|L|M|N|O|P|Q|R|S|T|U|V|W|X|Y|Z|A|\n",
    "2|C|D|E|F|G|H|I|J|K|L|M|N|O|P|Q|R|S|T|U|V|W|X|Y|Z|A|B|\n",
    "10|K|L|M|N|O|P|Q|R|S|T|U|V|W|X|Y|Z|A|B|C|D|E|F|G|H|I|J|\n",
    "\n",
    "In the case of using an alphabet which has been shifted by 1, 'A' will be replaced with 'B', 'B' will be replaced with 'C', ..., 'Z' is replaced with 'A'.\n",
    "\n",
    "#### 2.1)\n",
    "Complete the following function which takes a string and an integer which represents the shift and returns an encoded string."
   ]
  },
  {
   "cell_type": "code",
   "execution_count": 5,
   "metadata": {},
   "outputs": [],
   "source": [
    "def encode_string(message, shift=5):\n",
    "    encoded_message = \"\"\n",
    "    for letter in message:\n",
    "        if letter.isalpha():\n",
    "            code_shift = ord(letter) + shift\n",
    "            if code_shift > ord('Z'):\n",
    "                code_shift -= 26\n",
    "            elif code_shift < ord('A'):\n",
    "                code_shift += 26\n",
    "            final_code = chr(code_shift)\n",
    "            encoded_message += final_code\n",
    "    return encoded_message\n",
    "\n",
    "assert encode_string('ABCD', 1) == 'BCDE', \"encode_string('ABCD', 1) should return 'BCDE'\"\n",
    "assert encode_string('FOOBAR', 3) == 'IRREDU', \"encode_string('FOOBAR', 3) should return 'IRREDU'\"\n",
    "assert encode_string('XYZ') == 'CDE', \"encode_string('XYZ', 3) should return 'CDE'\""
   ]
  },
  {
   "cell_type": "markdown",
   "metadata": {},
   "source": [
    "#### 2.2)\n",
    "\n",
    "Complete the following function which takes a string and an integer which represents the shift and returns the decoded message"
   ]
  },
  {
   "cell_type": "code",
   "execution_count": 6,
   "metadata": {},
   "outputs": [],
   "source": [
    "def decode_string(message, shift=5):\n",
    "    decoded_message = \"\"\n",
    "    for letter in message:\n",
    "        if letter.isalpha():\n",
    "            code_shift = ord(letter) - shift\n",
    "            if code_shift > ord('Z'):\n",
    "                code_shift -= 26\n",
    "            elif code_shift < ord('A'):\n",
    "                code_shift += 26\n",
    "            final_code = chr(code_shift)\n",
    "            decoded_message += final_code\n",
    "    return decoded_message\n",
    "\n",
    "assert decode_string('MNO', 10) == 'CDE', \"decode_string('MNO', 10) should return 'CDE'\"\n",
    "assert decode_string('PYTHON') == 'KTOCJI', \"decode_string('PYTHON') should return 'KTOCJI'\"\n",
    "\n",
    "assert decode_string(encode_string('ABCD', 1), 1) == 'ABCD', \"decode_string(encode_string('ABCD', 1), 1) should return 'ABCD'\"\n",
    "assert decode_string(encode_string('FOOBAR', 3), 3) == 'FOOBAR', \"decode_string(encode_string('FOOBAR', 3), 3) should return 'FOOBAR'\"\n",
    "assert decode_string(encode_string('XYZ')) == 'XYZ', \"decode_string(encode_string('XYZ')) should return 'XYZ'\""
   ]
  },
  {
   "cell_type": "code",
   "execution_count": null,
   "metadata": {},
   "outputs": [],
   "source": []
  },
  {
   "cell_type": "markdown",
   "metadata": {},
   "source": [
    "### Question 3\n",
    "\n",
    "Write code which will reproduce each of the following patterns given an input size N\n",
    "\n",
    "Example:\n",
    "\n",
    "```\n",
    "N = 10\n",
    "\n",
    " x x x x x x x x x x\n",
    " x o x o x o x o x o\n",
    " x x x x x x x x x x\n",
    " x o x o x o x o x o\n",
    " x x x x x x x x x x\n",
    " x o x o x o x o x o\n",
    " x x x x x x x x x x\n",
    " x o x o x o x o x o\n",
    " x x x x x x x x x x\n",
    " x o x o x o x o x o\n",
    "\n",
    "```"
   ]
  },
  {
   "cell_type": "code",
   "execution_count": 7,
   "metadata": {},
   "outputs": [
    {
     "name": "stdout",
     "output_type": "stream",
     "text": [
      " x x x x x x x x x x\n",
      " x o x o x o x o x o\n",
      " x x x x x x x x x x\n",
      " x o x o x o x o x o\n",
      " x x x x x x x x x x\n",
      " x o x o x o x o x o\n",
      " x x x x x x x x x x\n",
      " x o x o x o x o x o\n",
      " x x x x x x x x x x\n",
      " x o x o x o x o x o\n"
     ]
    }
   ],
   "source": [
    "N = 10\n",
    "pattern = [[' o' for x in range(N)] for y in range(N)]\n",
    "\n",
    "for j in range(N):\n",
    "    for i  in range(N):\n",
    "        if j%2 == 0 or i%2 == 0:\n",
    "            pattern[j][i] = ' x'\n",
    "            \n",
    "for row in pattern:\n",
    "    print(''.join(row))"
   ]
  },
  {
   "cell_type": "markdown",
   "metadata": {},
   "source": [
    "#### 3.1)\n",
    "\n",
    "```\n",
    "N = 10\n",
    "\n",
    " x x x x x x x x x x\n",
    " x o o o o o o o o x\n",
    " x o o o o o o o o x\n",
    " x o o o o o o o o x\n",
    " x o o o o o o o o x\n",
    " x o o o o o o o o x\n",
    " x o o o o o o o o x\n",
    " x o o o o o o o o x\n",
    " x o o o o o o o o x\n",
    " x x x x x x x x x x\n",
    "```"
   ]
  },
  {
   "cell_type": "code",
   "execution_count": 8,
   "metadata": {},
   "outputs": [
    {
     "name": "stdout",
     "output_type": "stream",
     "text": [
      "N = 10\n",
      "\n",
      "x x x x x x x x x x \n",
      "x o o o o o o o o x\n",
      "x o o o o o o o o x\n",
      "x o o o o o o o o x\n",
      "x o o o o o o o o x\n",
      "x o o o o o o o o x\n",
      "x o o o o o o o o x\n",
      "x o o o o o o o o x\n",
      "x o o o o o o o o x\n",
      "x x x x x x x x x x \n"
     ]
    }
   ],
   "source": [
    "print('N = 10')\n",
    "print()\n",
    "\n",
    "N = 10\n",
    "\n",
    "print (\"x \" * N)\n",
    "\n",
    "for j in range (N - 2):\n",
    "    print (\"x \" + \"o \" * (N - 2) + \"x\")\n",
    "    \n",
    "print (\"x \" * N)\n"
   ]
  },
  {
   "cell_type": "markdown",
   "metadata": {},
   "source": [
    "#### 3.2)\n",
    "\n",
    "```\n",
    "N = 9\n",
    "\n",
    " x o o o o o o o x\n",
    " o x o o o o o x o\n",
    " o o x o o o x o o\n",
    " o o o x o x o o o\n",
    " o o o o x o o o o\n",
    " o o o x o x o o o\n",
    " o o x o o o x o o\n",
    " o x o o o o o x o\n",
    " x o o o o o o o x\n",
    " \n",
    "N = 10\n",
    "\n",
    " x o o o o o o o o x\n",
    " o x o o o o o o x o\n",
    " o o x o o o o x o o\n",
    " o o o x o o x o o o\n",
    " o o o o x x o o o o\n",
    " o o o o x x o o o o\n",
    " o o o x o o x o o o\n",
    " o o x o o o o x o o\n",
    " o x o o o o o o x o\n",
    " x o o o o o o o o x\n",
    "\n",
    "\n",
    "```"
   ]
  },
  {
   "cell_type": "code",
   "execution_count": 9,
   "metadata": {},
   "outputs": [
    {
     "name": "stdout",
     "output_type": "stream",
     "text": [
      "N = 9\n",
      "\n",
      "x o o o o o o o x  \n",
      "o x o o o o o x o  \n",
      "o o x o o o x o o  \n",
      "o o o x o x o o o  \n",
      "o o o o x o o o o  \n",
      "o o o x o x o o o  \n",
      "o o x o o o x o o  \n",
      "o x o o o o o x o  \n",
      "x o o o o o o o x  \n",
      "\n",
      "N = 10\n",
      "\n",
      "x o o o o o o o o x  \n",
      "o x o o o o o o x o  \n",
      "o o x o o o o x o o  \n",
      "o o o x o o x o o o  \n",
      "o o o o x x o o o o  \n",
      "o o o o x x o o o o  \n",
      "o o o x o o x o o o  \n",
      "o o x o o o o x o o  \n",
      "o x o o o o o o x o  \n",
      "x o o o o o o o o x  \n"
     ]
    }
   ],
   "source": [
    "print('N = 9')\n",
    "print()\n",
    "\n",
    "N = 9\n",
    "for j in range (N):\n",
    "    for i in range (N):\n",
    "        if (j == i) or ((N-i-1) == j):\n",
    "            print ('x ', end ='')\n",
    "        else:\n",
    "            print ('o ', end ='')\n",
    "    print(' ')\n",
    "    \n",
    "print()\n",
    "print('N = 10')\n",
    "print()\n",
    "\n",
    "N = 10\n",
    "for j in range (N):\n",
    "    for i in range (N):\n",
    "        if (j == i) or ((N-i-1) == j):\n",
    "            print ('x ', end ='')\n",
    "        else:\n",
    "            print ('o ', end ='')\n",
    "    print(' ')"
   ]
  },
  {
   "cell_type": "markdown",
   "metadata": {},
   "source": [
    "#### 3.3)\n",
    "\n",
    "```\n",
    "N = 10\n",
    "\n",
    " o x o x o x o x o x\n",
    " x o x o x o x o x o\n",
    " o x o x o x o x o x\n",
    " x o x o x o x o x o\n",
    " o x o x o x o x o x\n",
    " x o x o x o x o x o\n",
    " o x o x o x o x o x\n",
    " x o x o x o x o x o\n",
    " o x o x o x o x o x\n",
    " x o x o x o x o x o\n",
    "\n",
    "```"
   ]
  },
  {
   "cell_type": "code",
   "execution_count": 10,
   "metadata": {
    "scrolled": true
   },
   "outputs": [
    {
     "name": "stdout",
     "output_type": "stream",
     "text": [
      "N=10\n",
      "\n",
      "o x o x o x o x o x \n",
      "x o x o x o x o x o \n",
      "o x o x o x o x o x \n",
      "x o x o x o x o x o \n",
      "o x o x o x o x o x \n",
      "x o x o x o x o x o \n",
      "o x o x o x o x o x \n",
      "x o x o x o x o x o \n",
      "o x o x o x o x o x \n",
      "x o x o x o x o x o \n"
     ]
    }
   ],
   "source": [
    "print('N=10')\n",
    "print()\n",
    "\n",
    "N = 10\n",
    "\n",
    "for j in range(N):\n",
    "    for i in range (N):\n",
    "        if (i == j or (i%2 == 1 and j%2 == 1) or (i%2 == 0 and j%2 == 0)):\n",
    "            print ('o ', end='')\n",
    "        else:\n",
    "            print ('x ', end='')\n",
    "    print ('')"
   ]
  },
  {
   "cell_type": "markdown",
   "metadata": {},
   "source": [
    "#### 3.4)\n",
    "\n",
    "```\n",
    "N = 9\n",
    " x x x x x x x x x\n",
    " x x x x o x x x x\n",
    " x x x o o o x x x\n",
    " x x o o o o o x x\n",
    " x o o o o o o o x\n",
    " x x o o o o o x x\n",
    " x x x o o o x x x\n",
    " x x x x o x x x x\n",
    " x x x x x x x x x\n",
    "\n",
    "\n",
    "N = 10\n",
    "\n",
    " x x x x x x x x x x\n",
    " x x x x o o x x x x\n",
    " x x x o o o o x x x\n",
    " x x o o o o o o x x\n",
    " x o o o o o o o o x\n",
    " x o o o o o o o o x\n",
    " x x o o o o o o x x\n",
    " x x x o o o o x x x\n",
    " x x x x o o x x x x\n",
    " x x x x x x x x x x\n",
    "```"
   ]
  },
  {
   "cell_type": "code",
   "execution_count": 11,
   "metadata": {},
   "outputs": [
    {
     "name": "stdout",
     "output_type": "stream",
     "text": [
      "N = 9\n",
      "\n",
      "x x x x x x x x x \n",
      "x x x x o x x x x \n",
      "x x x o o o x x x \n",
      "x x o o o o o x x \n",
      "x o o o o o o o x \n",
      "x x o o o o o x x \n",
      "x x x o o o x x x \n",
      "x x x x o x x x x \n",
      "x x x x x x x x x \n",
      "\n",
      "N = 10\n",
      "\n",
      "x x x x x x x x x x \n",
      "x x x x o o x x x x \n",
      "x x x o o o o x x x \n",
      "x x o o o o o o x x \n",
      "x o o o o o o o o x \n",
      "x o o o o o o o o x \n",
      "x x o o o o o o x x \n",
      "x x x o o o o x x x \n",
      "x x x x o o x x x x \n",
      "x x x x x x x x x x \n"
     ]
    }
   ],
   "source": [
    "print('N = 9')\n",
    "print ()\n",
    "\n",
    "N = 9\n",
    "\n",
    "n = int(N/2)\n",
    "M = n*2-1\n",
    "\n",
    "print ('x '* N)\n",
    "\n",
    "for i in range (n):\n",
    "    for j in range(M + 1):\n",
    "        if j >= n-i and j <= n+i:\n",
    "            print('o ', end=\"\")\n",
    "        else:\n",
    "            print('x ', end=\"\")\n",
    "    print('x ')\n",
    "    \n",
    "for i in reversed(range (n-1)):\n",
    "    for j in range(M + 1):\n",
    "        if j >= n-i and j <= n+i:\n",
    "            print('o ', end=\"\")\n",
    "        else:\n",
    "            print('x ', end=\"\")\n",
    "    print('x ')\n",
    "    \n",
    "print('x '*N)\n",
    "\n",
    "print()\n",
    "\n",
    "print ('N = 10')\n",
    "print () \n",
    "\n",
    "N = 10\n",
    "\n",
    "n = int(N/2)\n",
    "M = n*2-1\n",
    "\n",
    "for i in range (n):\n",
    "    for j in range(M):\n",
    "        if j > n-i-1 and j < n+i:\n",
    "            print('o ', end=\"\")\n",
    "        else:\n",
    "            print('x ', end=\"\")\n",
    "    print('x ')\n",
    "    \n",
    "for i in reversed(range (n)):\n",
    "    for j in range(M):\n",
    "        if j > n-i-1 and j < n+i:\n",
    "            print('o ', end=\"\")\n",
    "        else:\n",
    "            print('x ', end=\"\")\n",
    "    print('x ')"
   ]
  }
 ],
 "metadata": {
  "kernelspec": {
   "display_name": "Python 3",
   "language": "python",
   "name": "python3"
  },
  "language_info": {
   "codemirror_mode": {
    "name": "ipython",
    "version": 3
   },
   "file_extension": ".py",
   "mimetype": "text/x-python",
   "name": "python",
   "nbconvert_exporter": "python",
   "pygments_lexer": "ipython3",
   "version": "3.7.1"
  }
 },
 "nbformat": 4,
 "nbformat_minor": 2
}
